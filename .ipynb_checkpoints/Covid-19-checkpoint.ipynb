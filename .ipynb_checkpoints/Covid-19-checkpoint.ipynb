{
 "cells": [
  {
   "cell_type": "code",
   "execution_count": 1,
   "metadata": {},
   "outputs": [
    {
     "name": "stdout",
     "output_type": "stream",
     "text": [
      "          Location  Confirmed  Cases per 1M people  Recovered  Deaths\n",
      "0        Worldwide     745308               105.77     156875   35307\n",
      "1    United States     147465               450.84       4885    2602\n",
      "2            Italy     101739              1610.68      14620   11591\n",
      "3            Spain      85199              1719.44      16780    7424\n",
      "4            China      81470                59.32      75770    3304\n",
      "5          Germany      63929               778.32       6294     563\n",
      "6             Iran      41495               512.33      13911    2757\n",
      "7           France      40174               594.59       7202    2606\n",
      "8   United Kingdom      22141               341.19        135    1408\n",
      "9      Switzerland      15668              2309.21       1823     338\n",
      "10         Belgium      11899              1154.43       1527     513\n",
      "11     Netherlands      11750               721.56          0     864\n",
      "12          Turkey      10827               129.35        162     168\n",
      "13     South Korea       9661               189.28       5228     158\n",
      "14         Austria       9377              1196.66        636     108\n"
     ]
    }
   ],
   "source": [
    "import requests\n",
    "import pandas as pd\n",
    "import time\n",
    "\n",
    "a = list(time.ctime().split())[0:3]\n",
    "i=''\n",
    "for x in a:\n",
    "    i+='_'+x\n",
    "\n",
    "    \n",
    "url = \"https://google.org/crisisresponse/covid19-map\"\n",
    "html = requests.get(url).content\n",
    "df_list = pd.read_html(html)\n",
    "df = df_list[-1]\n",
    "print(df)\n",
    "\n",
    "df.to_csv('./reports/Covid-19__{0}.csv'.format(i))"
   ]
  },
  {
   "cell_type": "code",
   "execution_count": 2,
   "metadata": {},
   "outputs": [
    {
     "data": {
      "text/html": [
       "<div>\n",
       "<style scoped>\n",
       "    .dataframe tbody tr th:only-of-type {\n",
       "        vertical-align: middle;\n",
       "    }\n",
       "\n",
       "    .dataframe tbody tr th {\n",
       "        vertical-align: top;\n",
       "    }\n",
       "\n",
       "    .dataframe thead th {\n",
       "        text-align: right;\n",
       "    }\n",
       "</style>\n",
       "<table border=\"1\" class=\"dataframe\">\n",
       "  <thead>\n",
       "    <tr style=\"text-align: right;\">\n",
       "      <th></th>\n",
       "      <th>Location</th>\n",
       "      <th>Confirmed</th>\n",
       "      <th>Cases per 1M people</th>\n",
       "      <th>Recovered</th>\n",
       "      <th>Deaths</th>\n",
       "    </tr>\n",
       "  </thead>\n",
       "  <tbody>\n",
       "    <tr>\n",
       "      <th>0</th>\n",
       "      <td>Worldwide</td>\n",
       "      <td>745308</td>\n",
       "      <td>105.77</td>\n",
       "      <td>156875</td>\n",
       "      <td>35307</td>\n",
       "    </tr>\n",
       "    <tr>\n",
       "      <th>1</th>\n",
       "      <td>United States</td>\n",
       "      <td>147465</td>\n",
       "      <td>450.84</td>\n",
       "      <td>4885</td>\n",
       "      <td>2602</td>\n",
       "    </tr>\n",
       "    <tr>\n",
       "      <th>2</th>\n",
       "      <td>Italy</td>\n",
       "      <td>101739</td>\n",
       "      <td>1610.68</td>\n",
       "      <td>14620</td>\n",
       "      <td>11591</td>\n",
       "    </tr>\n",
       "    <tr>\n",
       "      <th>3</th>\n",
       "      <td>Spain</td>\n",
       "      <td>85199</td>\n",
       "      <td>1719.44</td>\n",
       "      <td>16780</td>\n",
       "      <td>7424</td>\n",
       "    </tr>\n",
       "    <tr>\n",
       "      <th>4</th>\n",
       "      <td>China</td>\n",
       "      <td>81470</td>\n",
       "      <td>59.32</td>\n",
       "      <td>75770</td>\n",
       "      <td>3304</td>\n",
       "    </tr>\n",
       "  </tbody>\n",
       "</table>\n",
       "</div>"
      ],
      "text/plain": [
       "        Location  Confirmed  Cases per 1M people  Recovered  Deaths\n",
       "0      Worldwide     745308               105.77     156875   35307\n",
       "1  United States     147465               450.84       4885    2602\n",
       "2          Italy     101739              1610.68      14620   11591\n",
       "3          Spain      85199              1719.44      16780    7424\n",
       "4          China      81470                59.32      75770    3304"
      ]
     },
     "execution_count": 2,
     "metadata": {},
     "output_type": "execute_result"
    }
   ],
   "source": [
    "df.head()"
   ]
  },
  {
   "cell_type": "code",
   "execution_count": 3,
   "metadata": {},
   "outputs": [],
   "source": [
    "import matplotlib.pyplot as plt\n",
    "%matplotlib inline"
   ]
  },
  {
   "cell_type": "code",
   "execution_count": 4,
   "metadata": {},
   "outputs": [
    {
     "data": {
      "text/html": [
       "<div>\n",
       "<style scoped>\n",
       "    .dataframe tbody tr th:only-of-type {\n",
       "        vertical-align: middle;\n",
       "    }\n",
       "\n",
       "    .dataframe tbody tr th {\n",
       "        vertical-align: top;\n",
       "    }\n",
       "\n",
       "    .dataframe thead th {\n",
       "        text-align: right;\n",
       "    }\n",
       "</style>\n",
       "<table border=\"1\" class=\"dataframe\">\n",
       "  <thead>\n",
       "    <tr style=\"text-align: right;\">\n",
       "      <th></th>\n",
       "      <th>Location</th>\n",
       "      <th>Confirmed</th>\n",
       "      <th>Cases per 1M people</th>\n",
       "      <th>Recovered</th>\n",
       "      <th>Deaths</th>\n",
       "    </tr>\n",
       "  </thead>\n",
       "  <tbody>\n",
       "    <tr>\n",
       "      <th>0</th>\n",
       "      <td>Worldwide</td>\n",
       "      <td>745308</td>\n",
       "      <td>105.77</td>\n",
       "      <td>156875</td>\n",
       "      <td>35307</td>\n",
       "    </tr>\n",
       "    <tr>\n",
       "      <th>1</th>\n",
       "      <td>United States</td>\n",
       "      <td>147465</td>\n",
       "      <td>450.84</td>\n",
       "      <td>4885</td>\n",
       "      <td>2602</td>\n",
       "    </tr>\n",
       "    <tr>\n",
       "      <th>2</th>\n",
       "      <td>Italy</td>\n",
       "      <td>101739</td>\n",
       "      <td>1610.68</td>\n",
       "      <td>14620</td>\n",
       "      <td>11591</td>\n",
       "    </tr>\n",
       "    <tr>\n",
       "      <th>3</th>\n",
       "      <td>Spain</td>\n",
       "      <td>85199</td>\n",
       "      <td>1719.44</td>\n",
       "      <td>16780</td>\n",
       "      <td>7424</td>\n",
       "    </tr>\n",
       "    <tr>\n",
       "      <th>4</th>\n",
       "      <td>China</td>\n",
       "      <td>81470</td>\n",
       "      <td>59.32</td>\n",
       "      <td>75770</td>\n",
       "      <td>3304</td>\n",
       "    </tr>\n",
       "    <tr>\n",
       "      <th>5</th>\n",
       "      <td>Germany</td>\n",
       "      <td>63929</td>\n",
       "      <td>778.32</td>\n",
       "      <td>6294</td>\n",
       "      <td>563</td>\n",
       "    </tr>\n",
       "    <tr>\n",
       "      <th>6</th>\n",
       "      <td>Iran</td>\n",
       "      <td>41495</td>\n",
       "      <td>512.33</td>\n",
       "      <td>13911</td>\n",
       "      <td>2757</td>\n",
       "    </tr>\n",
       "    <tr>\n",
       "      <th>7</th>\n",
       "      <td>France</td>\n",
       "      <td>40174</td>\n",
       "      <td>594.59</td>\n",
       "      <td>7202</td>\n",
       "      <td>2606</td>\n",
       "    </tr>\n",
       "    <tr>\n",
       "      <th>8</th>\n",
       "      <td>United Kingdom</td>\n",
       "      <td>22141</td>\n",
       "      <td>341.19</td>\n",
       "      <td>135</td>\n",
       "      <td>1408</td>\n",
       "    </tr>\n",
       "    <tr>\n",
       "      <th>9</th>\n",
       "      <td>Switzerland</td>\n",
       "      <td>15668</td>\n",
       "      <td>2309.21</td>\n",
       "      <td>1823</td>\n",
       "      <td>338</td>\n",
       "    </tr>\n",
       "  </tbody>\n",
       "</table>\n",
       "</div>"
      ],
      "text/plain": [
       "         Location  Confirmed  Cases per 1M people  Recovered  Deaths\n",
       "0       Worldwide     745308               105.77     156875   35307\n",
       "1   United States     147465               450.84       4885    2602\n",
       "2           Italy     101739              1610.68      14620   11591\n",
       "3           Spain      85199              1719.44      16780    7424\n",
       "4           China      81470                59.32      75770    3304\n",
       "5         Germany      63929               778.32       6294     563\n",
       "6            Iran      41495               512.33      13911    2757\n",
       "7          France      40174               594.59       7202    2606\n",
       "8  United Kingdom      22141               341.19        135    1408\n",
       "9     Switzerland      15668              2309.21       1823     338"
      ]
     },
     "execution_count": 4,
     "metadata": {},
     "output_type": "execute_result"
    }
   ],
   "source": [
    "df.sort_values(\"Confirmed\", axis = 0, ascending = False, \n",
    "                 inplace = True, na_position ='last')\n",
    "df.head(10)"
   ]
  },
  {
   "cell_type": "code",
   "execution_count": 5,
   "metadata": {},
   "outputs": [
    {
     "data": {
      "image/png": "[encoded data removed]",
      "text/plain": [
       "<Figure size 432x288 with 1 Axes>"
      ]
     },
     "metadata": {},
     "output_type": "display_data"
    }
   ],
   "source": [
    "fig,ax=plt.subplots()\n",
    "ax.set_axisbelow(True)\n",
    "ax.minorticks_on()\n",
    "\n",
    "df.head(10).plot(kind='bar',x=\"Location\", y=\"Deaths\",ax=ax)\n",
    "plt.savefig(\"./reports/Covid-19__deaths__{0}.png\".format(i),dpi=950)"
   ]
  },
  {
   "cell_type": "code",
   "execution_count": 7,
   "metadata": {},
   "outputs": [
    {
     "data": {
      "image/png": "[encoded data removed]",
      "text/plain": [
       "<Figure size 432x288 with 1 Axes>"
      ]
     },
     "metadata": {},
     "output_type": "display_data"
    }
   ],
   "source": [
    "fig,ax=plt.subplots()\n",
    "ax.set_axisbelow(True)\n",
    "ax.minorticks_on()\n",
    "\n",
    "df.head(10).plot(kind='bar',x=\"Location\", y=\"Confirmed\",ax=ax)\n",
    "plt.savefig(\"./reports/Covid-19__cases__{0}.png\".format(i),dpi=950)"
   ]
  },
  {
   "cell_type": "code",
   "execution_count": null,
   "metadata": {},
   "outputs": [],
   "source": []
  }
 ],
 "metadata": {
  "kernelspec": {
   "display_name": "Python 3",
   "language": "python",
   "name": "python3"
  },
  "language_info": {
   "codemirror_mode": {
    "name": "ipython",
    "version": 3
   },
   "file_extension": ".py",
   "mimetype": "text/x-python",
   "name": "python",
   "nbconvert_exporter": "python",
   "pygments_lexer": "ipython3",
   "version": "3.6.5"
  }
 },
 "nbformat": 4,
 "nbformat_minor": 2
}
